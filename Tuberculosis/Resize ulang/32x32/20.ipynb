{
  "cells": [
    {
      "cell_type": "markdown",
      "metadata": {
        "id": "view-in-github",
        "colab_type": "text"
      },
      "source": [
        "<a href=\"https://colab.research.google.com/github/taniaalwi99/Pengujian-Skenario/blob/main/Tuberculosis/Resize%20ulang/32x32/20.ipynb\" target=\"_parent\"><img src=\"https://colab.research.google.com/assets/colab-badge.svg\" alt=\"Open In Colab\"/></a>"
      ]
    },
    {
      "cell_type": "markdown",
      "metadata": {
        "id": "CSh2Adf3ennR"
      },
      "source": [
        ""
      ]
    },
    {
      "cell_type": "code",
      "execution_count": 1,
      "metadata": {
        "colab": {
          "base_uri": "https://localhost:8080/"
        },
        "id": "2_RYo7hrXaC5",
        "outputId": "63fc2cf3-dcb6-40c7-fc49-efd843bfd7a7"
      },
      "outputs": [
        {
          "output_type": "stream",
          "name": "stdout",
          "text": [
            "Mounted at /content/drive\n"
          ]
        }
      ],
      "source": [
        "from google.colab import drive\n",
        "drive.mount('/content/drive')"
      ]
    },
    {
      "cell_type": "code",
      "execution_count": 2,
      "metadata": {
        "colab": {
          "base_uri": "https://localhost:8080/"
        },
        "id": "G4aisxOFX3KH",
        "outputId": "8cb6707a-0293-42d3-e019-5c7b83f98313"
      },
      "outputs": [
        {
          "output_type": "stream",
          "name": "stdout",
          "text": [
            "/content/drive/My Drive\n"
          ]
        }
      ],
      "source": [
        "cd /content/drive/My Drive"
      ]
    },
    {
      "cell_type": "code",
      "execution_count": 3,
      "metadata": {
        "colab": {
          "base_uri": "https://localhost:8080/"
        },
        "id": "e_oGUrADX8O_",
        "outputId": "cc2a69db-a332-4f6f-febc-dbc091e15528"
      },
      "outputs": [
        {
          "output_type": "stream",
          "name": "stdout",
          "text": [
            "\u001b[0m\u001b[01;34m'Dataset Gray'\u001b[0m/\n"
          ]
        }
      ],
      "source": [
        "ls"
      ]
    },
    {
      "cell_type": "code",
      "execution_count": 4,
      "metadata": {
        "id": "t95OxlI7X_OF"
      },
      "outputs": [],
      "source": [
        "from keras.models import Model\n",
        "from keras.models import load_model\n",
        "from keras.models import Sequential\n",
        "from keras.layers.convolutional import Convolution2D\n",
        "from keras.layers.convolutional import MaxPooling2D\n",
        "from keras.layers.convolutional import ZeroPadding2D\n",
        "from keras.layers.core import Activation\n",
        "from keras.layers.core import Flatten\n",
        "from keras.layers.core import Dense\n",
        "from keras.layers.core import Dropout\n",
        "from keras.layers import BatchNormalization\n",
        "from keras import regularizers\n",
        "from keras.preprocessing.image import ImageDataGenerator\n",
        "from tensorflow.keras.optimizers import RMSprop, Adam, SGD\n",
        "from sklearn.preprocessing import LabelBinarizer\n",
        "from sklearn.model_selection import train_test_split\n",
        "from sklearn.metrics import classification_report\n",
        "from PIL import Image\n",
        "from matplotlib import pyplot as plt\n",
        "from imutils import paths\n",
        "import numpy as np\n",
        "import os"
      ]
    },
    {
      "cell_type": "code",
      "execution_count": 5,
      "metadata": {
        "colab": {
          "base_uri": "https://localhost:8080/"
        },
        "id": "jvn693i-YDZ8",
        "outputId": "0fa77a87-aa1f-409f-db53-ce221f45cce2"
      },
      "outputs": [
        {
          "output_type": "stream",
          "name": "stdout",
          "text": [
            "[INFO] loading images...\n"
          ]
        }
      ],
      "source": [
        "print(\"[INFO] loading images...\")\n",
        "imagePaths = paths.list_images(\"Dataset Gray\")\n",
        "data = []\n",
        "labels = []"
      ]
    },
    {
      "cell_type": "code",
      "execution_count": 6,
      "metadata": {
        "id": "3XLuWAZsYLfK"
      },
      "outputs": [],
      "source": [
        "for imagePaths in imagePaths:\n",
        "    a = Image.open(imagePaths)\n",
        "    image = np.array(a.resize((32,32))) / 255.0\n",
        "    data.append(image)\n",
        "    \n",
        "    label = imagePaths.split(os.path.sep) [-2]\n",
        "    labels.append(label)"
      ]
    },
    {
      "cell_type": "code",
      "execution_count": 7,
      "metadata": {
        "colab": {
          "base_uri": "https://localhost:8080/"
        },
        "id": "gnjyPDi_Yyrn",
        "outputId": "81a9b7e0-7b77-46e4-c37a-162848e4f726"
      },
      "outputs": [
        {
          "output_type": "stream",
          "name": "stdout",
          "text": [
            "[[1 0]\n",
            " [1 0]\n",
            " [1 0]\n",
            " ...\n",
            " [0 1]\n",
            " [0 1]\n",
            " [0 1]]\n"
          ]
        }
      ],
      "source": [
        "from sklearn.preprocessing import LabelBinarizer\n",
        "import numpy as np\n",
        "\n",
        "class MyLabelBinarizer(LabelBinarizer):\n",
        "    def transform(self, label):\n",
        "      nilaiy = super().transform(label)\n",
        "      if self.y_type_== 'binary':\n",
        "        return np.hstack((nilaiy, 1-nilaiy))\n",
        "      else:\n",
        "        return nilaiy\n",
        "    def inverse_transform(self, nilaiy, threshold=None):\n",
        "      if self.y_type_ == 'binary':\n",
        "          return super().inverse_transform(nilaiy[:, 0], threshold)\n",
        "      else:\n",
        "          return super().inverse_transform(nilaiy, threshold)\n",
        "\n",
        "      \n",
        "\n",
        "lb = MyLabelBinarizer()\n",
        "labels = lb.fit_transform(labels)\n",
        "print(labels)"
      ]
    },
    {
      "cell_type": "code",
      "execution_count": 8,
      "metadata": {
        "colab": {
          "base_uri": "https://localhost:8080/"
        },
        "id": "0V3CnlQtY1g2",
        "outputId": "cb1d196f-265e-4a44-fd03-128742b9c9ab"
      },
      "outputs": [
        {
          "output_type": "stream",
          "name": "stdout",
          "text": [
            "(1120, 32, 32)\n",
            "(280, 32, 32)\n"
          ]
        }
      ],
      "source": [
        "(trainX,testX, trainY, testY) = train_test_split(np.array(data),np.array(labels), test_size=0.20, random_state=0)\n",
        "print(trainX.shape)\n",
        "print(testX.shape)"
      ]
    },
    {
      "cell_type": "code",
      "execution_count": 9,
      "metadata": {
        "id": "WpeYjXzUZCZP"
      },
      "outputs": [],
      "source": [
        "def vgg16(num_classes):\n",
        "\n",
        "    vgg16 = Sequential()\n",
        "\n",
        "    vgg16.add(Convolution2D(input_shape=(32,32,1),filters=64,kernel_size=(3,3),padding=\"same\"))\n",
        "    vgg16.add(Activation('relu'))\n",
        "    vgg16.add(BatchNormalization())\n",
        "    #layer1 32*32*64\n",
        "    vgg16.add(Convolution2D(filters=64,kernel_size=(3,3),padding=\"same\"))\n",
        "    vgg16.add(Activation('relu'))\n",
        "    vgg16.add(MaxPooling2D(pool_size=(2, 2),strides=(2,2)))\n",
        "    vgg16.add(BatchNormalization())\n",
        "    #layer2 16*16*64\n",
        "    vgg16.add(Convolution2D(filters=128, kernel_size=(3,3), padding=\"same\"))\n",
        "    vgg16.add(Activation('relu'))\n",
        "    vgg16.add(BatchNormalization())\n",
        "    #layer3 16*16*128\n",
        "    vgg16.add(Convolution2D(filters=128, kernel_size=(3,3), padding=\"same\",))\n",
        "    vgg16.add(Activation('relu'))\n",
        "    vgg16.add(MaxPooling2D(pool_size=(2,2),strides=(2,2)))\n",
        "    vgg16.add(BatchNormalization())\n",
        "    #layer4 8*8*128\n",
        "    vgg16.add(Convolution2D(filters=256, kernel_size=(3,3), padding=\"same\"))\n",
        "    vgg16.add(Activation('relu'))\n",
        "    vgg16.add(BatchNormalization())\n",
        "    #layer5 8*8*256\n",
        "    vgg16.add(Convolution2D(filters=256, kernel_size=(3,3), padding=\"same\"))\n",
        "    vgg16.add(Activation('relu'))\n",
        "    vgg16.add(BatchNormalization())\n",
        "    #layer6 8*8*256\n",
        "    vgg16.add(Convolution2D(filters=256, kernel_size=(3,3), padding=\"same\"))\n",
        "    vgg16.add(Activation('relu'))\n",
        "    vgg16.add(MaxPooling2D(pool_size=(2,2),strides=(2,2)))\n",
        "    vgg16.add(BatchNormalization())\n",
        "    #layer7 4*4*256\n",
        "    vgg16.add(Convolution2D(filters=512, kernel_size=(3,3), padding=\"same\"))\n",
        "    vgg16.add(Activation('relu'))\n",
        "    vgg16.add(BatchNormalization())\n",
        "    #layer8 4*4*512\n",
        "    vgg16.add(Convolution2D(filters=512, kernel_size=(3,3), padding=\"same\"))\n",
        "    vgg16.add(Activation('relu'))\n",
        "    vgg16.add(BatchNormalization())\n",
        "    #layer9 4*4*512\n",
        "    vgg16.add(Convolution2D(filters=512, kernel_size=(3,3), padding=\"same\"))\n",
        "    vgg16.add(Activation('relu'))\n",
        "    vgg16.add(MaxPooling2D(pool_size=(2,2),strides=(2,2)))\n",
        "    vgg16.add(BatchNormalization())\n",
        "    #layer10 2*2*512\n",
        "    vgg16.add(Convolution2D(filters=512, kernel_size=(3,3), padding=\"same\"))\n",
        "    vgg16.add(Activation('relu'))\n",
        "    vgg16.add(BatchNormalization())\n",
        "    #layer11 2*2*512\n",
        "    vgg16.add(Convolution2D(filters=512, kernel_size=(3,3), padding=\"same\"))  \n",
        "    vgg16.add(Activation('relu')) \n",
        "    vgg16.add(BatchNormalization())       \n",
        "    #layer12 2*2*512\n",
        "    vgg16.add(Convolution2D(filters=512, kernel_size=(3,3), padding=\"same\"))\n",
        "    vgg16.add(Activation('relu'))\n",
        "    vgg16.add(MaxPooling2D(pool_size=(2,2),strides=(2,2)))\n",
        "    vgg16.add(BatchNormalization())\n",
        "    #layer13 1*1*512\n",
        "    vgg16.add(Flatten())\n",
        "    vgg16.add(Dense(units=4096))\n",
        "    vgg16.add(Activation('relu')) \n",
        "    vgg16.add(BatchNormalization())\n",
        "    vgg16.add(Dropout(0.5))\n",
        "    #layer14 4096\n",
        "    vgg16.add(Dense(units=4096))\n",
        "    vgg16.add(Activation('relu')) \n",
        "    vgg16.add(BatchNormalization())\n",
        "    vgg16.add(Dropout(0.5))\n",
        "    #layer16 4096\n",
        "    vgg16.add(Dense(units=1000))\n",
        "    vgg16.add(Activation('relu'))\n",
        "    vgg16.add(BatchNormalization())\n",
        "    vgg16.add(Dropout(0.5)) \n",
        "    #layer16 1000\n",
        "    vgg16.add(Dense(2, activation=\"softmax\"))\n",
        "\n",
        "    return vgg16"
      ]
    },
    {
      "cell_type": "code",
      "execution_count": 10,
      "metadata": {
        "colab": {
          "base_uri": "https://localhost:8080/"
        },
        "id": "rlT3OhVuZLUs",
        "outputId": "f7b0701c-3524-4aa1-ef9b-730d69b20026"
      },
      "outputs": [
        {
          "output_type": "stream",
          "name": "stdout",
          "text": [
            "Model: \"sequential\"\n",
            "_________________________________________________________________\n",
            " Layer (type)                Output Shape              Param #   \n",
            "=================================================================\n",
            " conv2d (Conv2D)             (None, 32, 32, 64)        640       \n",
            "                                                                 \n",
            " activation (Activation)     (None, 32, 32, 64)        0         \n",
            "                                                                 \n",
            " batch_normalization (BatchN  (None, 32, 32, 64)       256       \n",
            " ormalization)                                                   \n",
            "                                                                 \n",
            " conv2d_1 (Conv2D)           (None, 32, 32, 64)        36928     \n",
            "                                                                 \n",
            " activation_1 (Activation)   (None, 32, 32, 64)        0         \n",
            "                                                                 \n",
            " max_pooling2d (MaxPooling2D  (None, 16, 16, 64)       0         \n",
            " )                                                               \n",
            "                                                                 \n",
            " batch_normalization_1 (Batc  (None, 16, 16, 64)       256       \n",
            " hNormalization)                                                 \n",
            "                                                                 \n",
            " conv2d_2 (Conv2D)           (None, 16, 16, 128)       73856     \n",
            "                                                                 \n",
            " activation_2 (Activation)   (None, 16, 16, 128)       0         \n",
            "                                                                 \n",
            " batch_normalization_2 (Batc  (None, 16, 16, 128)      512       \n",
            " hNormalization)                                                 \n",
            "                                                                 \n",
            " conv2d_3 (Conv2D)           (None, 16, 16, 128)       147584    \n",
            "                                                                 \n",
            " activation_3 (Activation)   (None, 16, 16, 128)       0         \n",
            "                                                                 \n",
            " max_pooling2d_1 (MaxPooling  (None, 8, 8, 128)        0         \n",
            " 2D)                                                             \n",
            "                                                                 \n",
            " batch_normalization_3 (Batc  (None, 8, 8, 128)        512       \n",
            " hNormalization)                                                 \n",
            "                                                                 \n",
            " conv2d_4 (Conv2D)           (None, 8, 8, 256)         295168    \n",
            "                                                                 \n",
            " activation_4 (Activation)   (None, 8, 8, 256)         0         \n",
            "                                                                 \n",
            " batch_normalization_4 (Batc  (None, 8, 8, 256)        1024      \n",
            " hNormalization)                                                 \n",
            "                                                                 \n",
            " conv2d_5 (Conv2D)           (None, 8, 8, 256)         590080    \n",
            "                                                                 \n",
            " activation_5 (Activation)   (None, 8, 8, 256)         0         \n",
            "                                                                 \n",
            " batch_normalization_5 (Batc  (None, 8, 8, 256)        1024      \n",
            " hNormalization)                                                 \n",
            "                                                                 \n",
            " conv2d_6 (Conv2D)           (None, 8, 8, 256)         590080    \n",
            "                                                                 \n",
            " activation_6 (Activation)   (None, 8, 8, 256)         0         \n",
            "                                                                 \n",
            " max_pooling2d_2 (MaxPooling  (None, 4, 4, 256)        0         \n",
            " 2D)                                                             \n",
            "                                                                 \n",
            " batch_normalization_6 (Batc  (None, 4, 4, 256)        1024      \n",
            " hNormalization)                                                 \n",
            "                                                                 \n",
            " conv2d_7 (Conv2D)           (None, 4, 4, 512)         1180160   \n",
            "                                                                 \n",
            " activation_7 (Activation)   (None, 4, 4, 512)         0         \n",
            "                                                                 \n",
            " batch_normalization_7 (Batc  (None, 4, 4, 512)        2048      \n",
            " hNormalization)                                                 \n",
            "                                                                 \n",
            " conv2d_8 (Conv2D)           (None, 4, 4, 512)         2359808   \n",
            "                                                                 \n",
            " activation_8 (Activation)   (None, 4, 4, 512)         0         \n",
            "                                                                 \n",
            " batch_normalization_8 (Batc  (None, 4, 4, 512)        2048      \n",
            " hNormalization)                                                 \n",
            "                                                                 \n",
            " conv2d_9 (Conv2D)           (None, 4, 4, 512)         2359808   \n",
            "                                                                 \n",
            " activation_9 (Activation)   (None, 4, 4, 512)         0         \n",
            "                                                                 \n",
            " max_pooling2d_3 (MaxPooling  (None, 2, 2, 512)        0         \n",
            " 2D)                                                             \n",
            "                                                                 \n",
            " batch_normalization_9 (Batc  (None, 2, 2, 512)        2048      \n",
            " hNormalization)                                                 \n",
            "                                                                 \n",
            " conv2d_10 (Conv2D)          (None, 2, 2, 512)         2359808   \n",
            "                                                                 \n",
            " activation_10 (Activation)  (None, 2, 2, 512)         0         \n",
            "                                                                 \n",
            " batch_normalization_10 (Bat  (None, 2, 2, 512)        2048      \n",
            " chNormalization)                                                \n",
            "                                                                 \n",
            " conv2d_11 (Conv2D)          (None, 2, 2, 512)         2359808   \n",
            "                                                                 \n",
            " activation_11 (Activation)  (None, 2, 2, 512)         0         \n",
            "                                                                 \n",
            " batch_normalization_11 (Bat  (None, 2, 2, 512)        2048      \n",
            " chNormalization)                                                \n",
            "                                                                 \n",
            " conv2d_12 (Conv2D)          (None, 2, 2, 512)         2359808   \n",
            "                                                                 \n",
            " activation_12 (Activation)  (None, 2, 2, 512)         0         \n",
            "                                                                 \n",
            " max_pooling2d_4 (MaxPooling  (None, 1, 1, 512)        0         \n",
            " 2D)                                                             \n",
            "                                                                 \n",
            " batch_normalization_12 (Bat  (None, 1, 1, 512)        2048      \n",
            " chNormalization)                                                \n",
            "                                                                 \n",
            " flatten (Flatten)           (None, 512)               0         \n",
            "                                                                 \n",
            " dense (Dense)               (None, 4096)              2101248   \n",
            "                                                                 \n",
            " activation_13 (Activation)  (None, 4096)              0         \n",
            "                                                                 \n",
            " batch_normalization_13 (Bat  (None, 4096)             16384     \n",
            " chNormalization)                                                \n",
            "                                                                 \n",
            " dropout (Dropout)           (None, 4096)              0         \n",
            "                                                                 \n",
            " dense_1 (Dense)             (None, 4096)              16781312  \n",
            "                                                                 \n",
            " activation_14 (Activation)  (None, 4096)              0         \n",
            "                                                                 \n",
            " batch_normalization_14 (Bat  (None, 4096)             16384     \n",
            " chNormalization)                                                \n",
            "                                                                 \n",
            " dropout_1 (Dropout)         (None, 4096)              0         \n",
            "                                                                 \n",
            " dense_2 (Dense)             (None, 1000)              4097000   \n",
            "                                                                 \n",
            " activation_15 (Activation)  (None, 1000)              0         \n",
            "                                                                 \n",
            " batch_normalization_15 (Bat  (None, 1000)             4000      \n",
            " chNormalization)                                                \n",
            "                                                                 \n",
            " dropout_2 (Dropout)         (None, 1000)              0         \n",
            "                                                                 \n",
            " dense_3 (Dense)             (None, 2)                 2002      \n",
            "                                                                 \n",
            "=================================================================\n",
            "Total params: 37,748,762\n",
            "Trainable params: 37,721,930\n",
            "Non-trainable params: 26,832\n",
            "_________________________________________________________________\n"
          ]
        }
      ],
      "source": [
        "num_classes=2\n",
        "vgg16=vgg16(num_classes)\n",
        "vgg16.summary()"
      ]
    },
    {
      "cell_type": "code",
      "execution_count": 11,
      "metadata": {
        "colab": {
          "base_uri": "https://localhost:8080/"
        },
        "id": "eZ0TePWVZTx4",
        "outputId": "8d335477-b5c7-40ea-8b3f-d4ddc3ab4ba6"
      },
      "outputs": [
        {
          "output_type": "stream",
          "name": "stdout",
          "text": [
            "Model: \"sequential\"\n",
            "_________________________________________________________________\n",
            " Layer (type)                Output Shape              Param #   \n",
            "=================================================================\n",
            " conv2d (Conv2D)             (None, 32, 32, 64)        640       \n",
            "                                                                 \n",
            " activation (Activation)     (None, 32, 32, 64)        0         \n",
            "                                                                 \n",
            " batch_normalization (BatchN  (None, 32, 32, 64)       256       \n",
            " ormalization)                                                   \n",
            "                                                                 \n",
            " conv2d_1 (Conv2D)           (None, 32, 32, 64)        36928     \n",
            "                                                                 \n",
            " activation_1 (Activation)   (None, 32, 32, 64)        0         \n",
            "                                                                 \n",
            " max_pooling2d (MaxPooling2D  (None, 16, 16, 64)       0         \n",
            " )                                                               \n",
            "                                                                 \n",
            " batch_normalization_1 (Batc  (None, 16, 16, 64)       256       \n",
            " hNormalization)                                                 \n",
            "                                                                 \n",
            " conv2d_2 (Conv2D)           (None, 16, 16, 128)       73856     \n",
            "                                                                 \n",
            " activation_2 (Activation)   (None, 16, 16, 128)       0         \n",
            "                                                                 \n",
            " batch_normalization_2 (Batc  (None, 16, 16, 128)      512       \n",
            " hNormalization)                                                 \n",
            "                                                                 \n",
            " conv2d_3 (Conv2D)           (None, 16, 16, 128)       147584    \n",
            "                                                                 \n",
            " activation_3 (Activation)   (None, 16, 16, 128)       0         \n",
            "                                                                 \n",
            " max_pooling2d_1 (MaxPooling  (None, 8, 8, 128)        0         \n",
            " 2D)                                                             \n",
            "                                                                 \n",
            " batch_normalization_3 (Batc  (None, 8, 8, 128)        512       \n",
            " hNormalization)                                                 \n",
            "                                                                 \n",
            " conv2d_4 (Conv2D)           (None, 8, 8, 256)         295168    \n",
            "                                                                 \n",
            " activation_4 (Activation)   (None, 8, 8, 256)         0         \n",
            "                                                                 \n",
            " batch_normalization_4 (Batc  (None, 8, 8, 256)        1024      \n",
            " hNormalization)                                                 \n",
            "                                                                 \n",
            " conv2d_5 (Conv2D)           (None, 8, 8, 256)         590080    \n",
            "                                                                 \n",
            " activation_5 (Activation)   (None, 8, 8, 256)         0         \n",
            "                                                                 \n",
            " batch_normalization_5 (Batc  (None, 8, 8, 256)        1024      \n",
            " hNormalization)                                                 \n",
            "                                                                 \n",
            " conv2d_6 (Conv2D)           (None, 8, 8, 256)         590080    \n",
            "                                                                 \n",
            " activation_6 (Activation)   (None, 8, 8, 256)         0         \n",
            "                                                                 \n",
            " max_pooling2d_2 (MaxPooling  (None, 4, 4, 256)        0         \n",
            " 2D)                                                             \n",
            "                                                                 \n",
            " batch_normalization_6 (Batc  (None, 4, 4, 256)        1024      \n",
            " hNormalization)                                                 \n",
            "                                                                 \n",
            " conv2d_7 (Conv2D)           (None, 4, 4, 512)         1180160   \n",
            "                                                                 \n",
            " activation_7 (Activation)   (None, 4, 4, 512)         0         \n",
            "                                                                 \n",
            " batch_normalization_7 (Batc  (None, 4, 4, 512)        2048      \n",
            " hNormalization)                                                 \n",
            "                                                                 \n",
            " conv2d_8 (Conv2D)           (None, 4, 4, 512)         2359808   \n",
            "                                                                 \n",
            " activation_8 (Activation)   (None, 4, 4, 512)         0         \n",
            "                                                                 \n",
            " batch_normalization_8 (Batc  (None, 4, 4, 512)        2048      \n",
            " hNormalization)                                                 \n",
            "                                                                 \n",
            " conv2d_9 (Conv2D)           (None, 4, 4, 512)         2359808   \n",
            "                                                                 \n",
            " activation_9 (Activation)   (None, 4, 4, 512)         0         \n",
            "                                                                 \n",
            " max_pooling2d_3 (MaxPooling  (None, 2, 2, 512)        0         \n",
            " 2D)                                                             \n",
            "                                                                 \n",
            " batch_normalization_9 (Batc  (None, 2, 2, 512)        2048      \n",
            " hNormalization)                                                 \n",
            "                                                                 \n",
            " conv2d_10 (Conv2D)          (None, 2, 2, 512)         2359808   \n",
            "                                                                 \n",
            " activation_10 (Activation)  (None, 2, 2, 512)         0         \n",
            "                                                                 \n",
            " batch_normalization_10 (Bat  (None, 2, 2, 512)        2048      \n",
            " chNormalization)                                                \n",
            "                                                                 \n",
            " conv2d_11 (Conv2D)          (None, 2, 2, 512)         2359808   \n",
            "                                                                 \n",
            " activation_11 (Activation)  (None, 2, 2, 512)         0         \n",
            "                                                                 \n",
            " batch_normalization_11 (Bat  (None, 2, 2, 512)        2048      \n",
            " chNormalization)                                                \n",
            "                                                                 \n",
            " conv2d_12 (Conv2D)          (None, 2, 2, 512)         2359808   \n",
            "                                                                 \n",
            " activation_12 (Activation)  (None, 2, 2, 512)         0         \n",
            "                                                                 \n",
            " max_pooling2d_4 (MaxPooling  (None, 1, 1, 512)        0         \n",
            " 2D)                                                             \n",
            "                                                                 \n",
            " batch_normalization_12 (Bat  (None, 1, 1, 512)        2048      \n",
            " chNormalization)                                                \n",
            "                                                                 \n",
            " flatten (Flatten)           (None, 512)               0         \n",
            "                                                                 \n",
            " dense (Dense)               (None, 4096)              2101248   \n",
            "                                                                 \n",
            " activation_13 (Activation)  (None, 4096)              0         \n",
            "                                                                 \n",
            " batch_normalization_13 (Bat  (None, 4096)             16384     \n",
            " chNormalization)                                                \n",
            "                                                                 \n",
            " dropout (Dropout)           (None, 4096)              0         \n",
            "                                                                 \n",
            " dense_1 (Dense)             (None, 4096)              16781312  \n",
            "                                                                 \n",
            " activation_14 (Activation)  (None, 4096)              0         \n",
            "                                                                 \n",
            " batch_normalization_14 (Bat  (None, 4096)             16384     \n",
            " chNormalization)                                                \n",
            "                                                                 \n",
            " dropout_1 (Dropout)         (None, 4096)              0         \n",
            "                                                                 \n",
            " dense_2 (Dense)             (None, 1000)              4097000   \n",
            "                                                                 \n",
            " activation_15 (Activation)  (None, 1000)              0         \n",
            "                                                                 \n",
            " batch_normalization_15 (Bat  (None, 1000)             4000      \n",
            " chNormalization)                                                \n",
            "                                                                 \n",
            " dropout_2 (Dropout)         (None, 1000)              0         \n"
          ]
        },
        {
          "output_type": "stream",
          "name": "stderr",
          "text": [
            "/usr/local/lib/python3.7/dist-packages/keras/optimizer_v2/adam.py:105: UserWarning: The `lr` argument is deprecated, use `learning_rate` instead.\n",
            "  super(Adam, self).__init__(name, **kwargs)\n"
          ]
        },
        {
          "output_type": "stream",
          "name": "stdout",
          "text": [
            "                                                                 \n",
            " dense_3 (Dense)             (None, 2)                 2002      \n",
            "                                                                 \n",
            "=================================================================\n",
            "Total params: 37,748,762\n",
            "Trainable params: 37,721,930\n",
            "Non-trainable params: 26,832\n",
            "_________________________________________________________________\n"
          ]
        }
      ],
      "source": [
        "#setting hyperparameter, menggunakan Adam\n",
        "opt = Adam(lr=0.001)\n",
        "vgg16.compile(loss='categorical_crossentropy', optimizer=opt, metrics=['accuracy'])\n",
        "vgg16.summary()"
      ]
    },
    {
      "cell_type": "code",
      "execution_count": 12,
      "metadata": {
        "colab": {
          "base_uri": "https://localhost:8080/"
        },
        "id": "JOp0TzHxZYLf",
        "outputId": "ffcd6040-e80a-4449-b62a-f2d192849936"
      },
      "outputs": [
        {
          "output_type": "stream",
          "name": "stdout",
          "text": [
            "Epoch 1/20\n",
            "70/70 [==============================] - 18s 48ms/step - loss: 1.1060 - accuracy: 0.7616 - val_loss: 35.2412 - val_accuracy: 0.5179\n",
            "Epoch 2/20\n",
            "70/70 [==============================] - 2s 32ms/step - loss: 0.4560 - accuracy: 0.8491 - val_loss: 11.9071 - val_accuracy: 0.5179\n",
            "Epoch 3/20\n",
            "70/70 [==============================] - 3s 37ms/step - loss: 0.3876 - accuracy: 0.8732 - val_loss: 4.3129 - val_accuracy: 0.5179\n",
            "Epoch 4/20\n",
            "70/70 [==============================] - 2s 33ms/step - loss: 0.3043 - accuracy: 0.9062 - val_loss: 3.3764 - val_accuracy: 0.5179\n",
            "Epoch 5/20\n",
            "70/70 [==============================] - 2s 32ms/step - loss: 0.3236 - accuracy: 0.8875 - val_loss: 4.9467 - val_accuracy: 0.5143\n",
            "Epoch 6/20\n",
            "70/70 [==============================] - 2s 32ms/step - loss: 0.2488 - accuracy: 0.9125 - val_loss: 1.0245 - val_accuracy: 0.7571\n",
            "Epoch 7/20\n",
            "70/70 [==============================] - 2s 32ms/step - loss: 0.1492 - accuracy: 0.9473 - val_loss: 0.5375 - val_accuracy: 0.8429\n",
            "Epoch 8/20\n",
            "70/70 [==============================] - 2s 32ms/step - loss: 0.1460 - accuracy: 0.9527 - val_loss: 0.4535 - val_accuracy: 0.8750\n",
            "Epoch 9/20\n",
            "70/70 [==============================] - 2s 32ms/step - loss: 0.1761 - accuracy: 0.9518 - val_loss: 0.2467 - val_accuracy: 0.9036\n",
            "Epoch 10/20\n",
            "70/70 [==============================] - 2s 32ms/step - loss: 0.1269 - accuracy: 0.9652 - val_loss: 0.3707 - val_accuracy: 0.8393\n",
            "Epoch 11/20\n",
            "70/70 [==============================] - 2s 34ms/step - loss: 0.1367 - accuracy: 0.9643 - val_loss: 0.1299 - val_accuracy: 0.9643\n",
            "Epoch 12/20\n",
            "70/70 [==============================] - 2s 34ms/step - loss: 0.1074 - accuracy: 0.9652 - val_loss: 0.0413 - val_accuracy: 0.9821\n",
            "Epoch 13/20\n",
            "70/70 [==============================] - 2s 32ms/step - loss: 0.1258 - accuracy: 0.9679 - val_loss: 0.3855 - val_accuracy: 0.8857\n",
            "Epoch 14/20\n",
            "70/70 [==============================] - 2s 32ms/step - loss: 0.1529 - accuracy: 0.9473 - val_loss: 0.2142 - val_accuracy: 0.9071\n",
            "Epoch 15/20\n",
            "70/70 [==============================] - 2s 34ms/step - loss: 0.1937 - accuracy: 0.9330 - val_loss: 0.1447 - val_accuracy: 0.9571\n",
            "Epoch 16/20\n",
            "70/70 [==============================] - 2s 35ms/step - loss: 0.1080 - accuracy: 0.9652 - val_loss: 0.0932 - val_accuracy: 0.9643\n",
            "Epoch 17/20\n",
            "70/70 [==============================] - 2s 32ms/step - loss: 0.1688 - accuracy: 0.9518 - val_loss: 0.0973 - val_accuracy: 0.9714\n",
            "Epoch 18/20\n",
            "70/70 [==============================] - 2s 32ms/step - loss: 0.1168 - accuracy: 0.9652 - val_loss: 1.2204 - val_accuracy: 0.7929\n",
            "Epoch 19/20\n",
            "70/70 [==============================] - 2s 33ms/step - loss: 0.1648 - accuracy: 0.9491 - val_loss: 0.6153 - val_accuracy: 0.8679\n",
            "Epoch 20/20\n",
            "70/70 [==============================] - 2s 33ms/step - loss: 0.0895 - accuracy: 0.9777 - val_loss: 0.0960 - val_accuracy: 0.9643\n"
          ]
        }
      ],
      "source": [
        "#training data\n",
        "H = vgg16.fit(trainX, trainY, validation_data=(testX, testY), epochs=20, batch_size=16)"
      ]
    },
    {
      "cell_type": "code",
      "execution_count": 13,
      "metadata": {
        "colab": {
          "base_uri": "https://localhost:8080/"
        },
        "id": "qjoEfHoWsr9H",
        "outputId": "e03064af-617f-475c-bfe6-a1b6adab31dc"
      },
      "outputs": [
        {
          "output_type": "stream",
          "name": "stdout",
          "text": [
            "[INFO] evaluating network...\n"
          ]
        }
      ],
      "source": [
        "print(\"[INFO] evaluating network...\")\n",
        "predictions = vgg16.predict(testX, batch_size=16)\n",
        "pred=predictions.argmax(axis=1)\n",
        "testY_argm=testY.argmax(axis=1)\n"
      ]
    },
    {
      "cell_type": "code",
      "execution_count": 14,
      "metadata": {
        "colab": {
          "base_uri": "https://localhost:8080/"
        },
        "id": "Po9wqNIMts7s",
        "outputId": "f1f7a84f-0cf5-4395-8efc-9240ce350e4b"
      },
      "outputs": [
        {
          "output_type": "stream",
          "name": "stdout",
          "text": [
            "              precision    recall  f1-score   support\n",
            "\n",
            "      Normal       0.94      1.00      0.97       145\n",
            "Tuberculosis       1.00      0.93      0.96       135\n",
            "\n",
            "    accuracy                           0.96       280\n",
            "   macro avg       0.97      0.96      0.96       280\n",
            "weighted avg       0.97      0.96      0.96       280\n",
            "\n"
          ]
        }
      ],
      "source": [
        "print(classification_report(testY_argm,pred,target_names=lb.classes_))"
      ]
    },
    {
      "cell_type": "code",
      "execution_count": 15,
      "metadata": {
        "colab": {
          "base_uri": "https://localhost:8080/"
        },
        "id": "5NSJXylrt1ND",
        "outputId": "f6413df9-7572-4653-cd4f-a6a46e9d4900"
      },
      "outputs": [
        {
          "output_type": "stream",
          "name": "stdout",
          "text": [
            "9/9 [==============================] - 1s 52ms/step - loss: 0.0960 - accuracy: 0.9643\n",
            "Test Loss 0.0960, accuracy 96.43%\n"
          ]
        }
      ],
      "source": [
        "test_score = vgg16.evaluate(testX, testY) \n",
        "print(\"Test Loss {:.4f}, accuracy {:.2f}%\".format(test_score[0], test_score[1] * 100))"
      ]
    },
    {
      "cell_type": "code",
      "execution_count": 16,
      "metadata": {
        "id": "ZS-FXHa6uI6H"
      },
      "outputs": [],
      "source": [
        "from sklearn.metrics import confusion_matrix\n",
        "import itertools\n",
        "\n",
        "def plot_confusion_matrix(cm, classes, normalize=False, title='Confusion matrix', cmap='Blues'):\n",
        "  if normalize:\n",
        "     cm = cm.astype('float') / cm.sum(axis=1)[:, np.newaxis]\n",
        "     print(\"Normalized confusion matrix\")\n",
        "  else:\n",
        "     print('Confusion matrix, without normalization')\n",
        "  print(cm)\n",
        "  plt.imshow(cm, interpolation='nearest', cmap=cmap)\n",
        "  plt.title(title)\n",
        "  plt.colorbar()\n",
        "  tick_marks = np.arange(len(classes))\n",
        "  plt.xticks(tick_marks, classes, rotation=45)\n",
        "  plt.yticks(tick_marks, classes)\n",
        "  fmt = '.2f' if normalize else 'd'\n",
        "  thresh = cm.max() / 2.\n",
        "  for i, j in itertools.product(range(cm.shape[0]), range(cm.shape[1])):\n",
        "      plt.text(j, i, format(cm[i, j], fmt), horizontalalignment=\"center\", color=\"white\" if cm[i, j] > thresh else \"black\")\n",
        "  plt.ylabel('True label')\n",
        "  plt.xlabel('Predicted label')\n",
        "  plt.tight_layout()"
      ]
    },
    {
      "cell_type": "code",
      "execution_count": 17,
      "metadata": {
        "colab": {
          "base_uri": "https://localhost:8080/",
          "height": 1000
        },
        "id": "eiYstz9xuRLx",
        "outputId": "f48a3667-ee64-450a-ffeb-65a4170470b0"
      },
      "outputs": [
        {
          "output_type": "stream",
          "name": "stdout",
          "text": [
            "Normalized confusion matrix\n",
            "[[1.   0.  ]\n",
            " [0.07 0.93]]\n"
          ]
        },
        {
          "output_type": "display_data",
          "data": {
            "text/plain": [
              "<Figure size 432x288 with 2 Axes>"
            ],
            "image/png": "[encoded data removed]"
          },
          "metadata": {
            "needs_background": "light"
          }
        },
        {
          "output_type": "stream",
          "name": "stdout",
          "text": [
            "Confusion matrix, without normalization\n",
            "[[145   0]\n",
            " [ 10 125]]\n"
          ]
        },
        {
          "output_type": "display_data",
          "data": {
            "text/plain": [
              "<Figure size 432x288 with 2 Axes>"
            ],
            "image/png": "[encoded data removed]"
          },
          "metadata": {
            "needs_background": "light"
          }
        },
        {
          "output_type": "display_data",
          "data": {
            "text/plain": [
              "<Figure size 432x288 with 1 Axes>"
            ],
            "image/png": "[encoded data removed]"
          },
          "metadata": {
            "needs_background": "light"
          }
        },
        {
          "output_type": "display_data",
          "data": {
            "text/plain": [
              "<Figure size 432x288 with 1 Axes>"
            ],
            "image/png": "[encoded data removed]"
          },
          "metadata": {
            "needs_background": "light"
          }
        }
      ],
      "source": [
        "cnf_matrix = confusion_matrix(testY_argm, pred)\n",
        "np.set_printoptions(precision=2)\n",
        "\n",
        "# Plot non/normalized confusion matrix\n",
        "plt.figure()\n",
        "plot_confusion_matrix(cnf_matrix,\n",
        "classes=lb.classes_, normalize=True)\n",
        "plt.show()\n",
        "\n",
        "plt.figure()\n",
        "plot_confusion_matrix(cnf_matrix,\n",
        "classes=lb.classes_, normalize=False)\n",
        "plt.show()\n",
        "\n",
        "f, ax = plt.subplots()\n",
        "ax.plot([None] + H.history['accuracy'], 'o-')\n",
        "ax.plot([None] + H.history['val_accuracy'], 'x-')\n",
        "\n",
        "ax.legend(['Train acc', 'Validation acc'], loc = 0)\n",
        "ax.set_title('Training/Validation acc per Epoch')\n",
        "ax.set_xlabel('Epoch')\n",
        "ax.set_ylabel('acc')\n",
        "plt.grid(True)\n",
        "\n",
        "f, ax = plt.subplots()\n",
        "ax.plot([None] + H.history['loss'], 'o-')\n",
        "ax.plot([None] + H.history['val_loss'], 'x-')\n",
        "ax.legend(['Train Loss', 'Validation Loss'], loc = 0)\n",
        "ax.set_title('Training/Validation Loss per Epoch')\n",
        "ax.set_xlabel('Epoch')\n",
        "ax.set_ylabel('loss')\n",
        "plt.grid(True)"
      ]
    }
  ],
  "metadata": {
    "accelerator": "GPU",
    "colab": {
      "collapsed_sections": [],
      "name": "Tuberculosis_VGG-16.ipynb",
      "provenance": [],
      "include_colab_link": true
    },
    "gpuClass": "standard",
    "kernelspec": {
      "display_name": "Python 3",
      "name": "python3"
    },
    "language_info": {
      "name": "python"
    }
  },
  "nbformat": 4,
  "nbformat_minor": 0
}